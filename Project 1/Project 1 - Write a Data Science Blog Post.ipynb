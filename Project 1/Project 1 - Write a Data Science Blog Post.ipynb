{
 "cells": [
  {
   "cell_type": "markdown",
   "id": "6228c528",
   "metadata": {},
   "source": [
    "# Udacity Data Scientist Nanodegree\n",
    "## Project 1: White a Data Science Blog Post\n",
    "## Stack Overflow: Where and Who?\n",
    "In this project we will be looking at Stack Overflow [user survey data from 2016-2020](https://insights.stackoverflow.com/survey/) and answering the following questions:\n",
    "1. In the period 2016-2020, have there been any major shifts in which countries users are from?\n",
    "2. What is the gender split on Stack Overflow, and have there been any major changes between 2016-2020?\n",
    "3. Looking at the 2020 data, what are the age distributions of male and female users?"
   ]
  },
  {
   "cell_type": "markdown",
   "id": "2e3f41d3",
   "metadata": {},
   "source": [
    "### Data acquisition\n",
    "Let's start by loading the required python libraries and the survery results from 2016-2020"
   ]
  },
  {
   "cell_type": "code",
   "execution_count": 100,
   "id": "6917ad08",
   "metadata": {},
   "outputs": [],
   "source": [
    "import numpy as np\n",
    "import pandas as pd\n",
    "import matplotlib.pyplot as plt\n",
    "%matplotlib inline\n",
    "\n",
    "# Dict of the paths to the results files\n",
    "results = {\n",
    "    2016: './Stack Overflow Data/2016 Stack Overflow Survey Results/2016 Stack Overflow Survey Responses.csv',\n",
    "    2017: './Stack Overflow Data/developer_survey_2017/survey_results_public.csv',\n",
    "    2018: './Stack Overflow Data/developer_survey_2018/survey_results_public.csv',\n",
    "    2019: './Stack Overflow Data/developer_survey_2019/survey_results_public.csv',\n",
    "    2020: './Stack Overflow Data/developer_survey_2020/survey_results_public.csv'\n",
    "}"
   ]
  },
  {
   "cell_type": "code",
   "execution_count": 101,
   "id": "c96d19f4",
   "metadata": {
    "scrolled": true
   },
   "outputs": [
    {
     "name": "stdout",
     "output_type": "stream",
     "text": [
      "Successfully read results file for year: 2016\n",
      "Successfully read results file for year: 2017\n"
     ]
    },
    {
     "name": "stderr",
     "output_type": "stream",
     "text": [
      "/Users/guy/.pyenv/versions/3.9.5/lib/python3.9/site-packages/IPython/core/interactiveshell.py:3169: DtypeWarning: Columns (8,12,13,14,15,16,50,51,52,53,55,56,57,58,59,60,61,62,63,64,65,66,67,68,69,70,71,72,73,74,75,76,77,78,79,80,81,82,83,84,85,93,94,95,96,97,98,99,100,101,102,103,104,105,106,107,108,109,110,111,112,113,114,115,116,117,118,119,120,121,122,123,124,125,126,127,128) have mixed types.Specify dtype option on import or set low_memory=False.\n",
      "  has_raised = await self.run_ast_nodes(code_ast.body, cell_name,\n"
     ]
    },
    {
     "name": "stdout",
     "output_type": "stream",
     "text": [
      "Successfully read results file for year: 2018\n",
      "Successfully read results file for year: 2019\n",
      "Successfully read results file for year: 2020\n"
     ]
    }
   ],
   "source": [
    "dfs = {}  # Empty dict to store all dataframes in\n",
    "\n",
    "# Read in all the results files into a list with year as the key\n",
    "for year, path in results.items():\n",
    "    try:\n",
    "        dfs[year] = pd.read_csv(path)\n",
    "        print('Successfully read results file for year: {}'.format(year))\n",
    "    except:\n",
    "        print('Could not read results file for year: {}'.format(year))"
   ]
  },
  {
   "cell_type": "markdown",
   "id": "f617f77c",
   "metadata": {},
   "source": [
    "**Note: Reading the 2018 data raises a warning due to detection of mixed types in many columns. This results in these columns being given the `object` dtype. In this case, it does not affect the analysis, but it may be important in other situations.**"
   ]
  },
  {
   "cell_type": "markdown",
   "id": "a76bd4bb",
   "metadata": {},
   "source": [
    "### Question 1: In the period 2016-2020, have there been any major shifts in which countries users are from?\n",
    "#### Data understanding\n",
    "To answer this question, we'll start by taking a quick look at the data from a couple of different years."
   ]
  },
  {
   "cell_type": "code",
   "execution_count": 102,
   "id": "6ed6d50a",
   "metadata": {},
   "outputs": [
    {
     "data": {
      "text/html": [
       "<div>\n",
       "<style scoped>\n",
       "    .dataframe tbody tr th:only-of-type {\n",
       "        vertical-align: middle;\n",
       "    }\n",
       "\n",
       "    .dataframe tbody tr th {\n",
       "        vertical-align: top;\n",
       "    }\n",
       "\n",
       "    .dataframe thead th {\n",
       "        text-align: right;\n",
       "    }\n",
       "</style>\n",
       "<table border=\"1\" class=\"dataframe\">\n",
       "  <thead>\n",
       "    <tr style=\"text-align: right;\">\n",
       "      <th></th>\n",
       "      <th>Unnamed: 0</th>\n",
       "      <th>collector</th>\n",
       "      <th>country</th>\n",
       "      <th>un_subregion</th>\n",
       "      <th>so_region</th>\n",
       "      <th>age_range</th>\n",
       "      <th>age_midpoint</th>\n",
       "      <th>gender</th>\n",
       "      <th>self_identification</th>\n",
       "      <th>occupation</th>\n",
       "      <th>...</th>\n",
       "      <th>important_sameend</th>\n",
       "      <th>important_newtech</th>\n",
       "      <th>important_buildnew</th>\n",
       "      <th>important_buildexisting</th>\n",
       "      <th>important_promotion</th>\n",
       "      <th>important_companymission</th>\n",
       "      <th>important_wfh</th>\n",
       "      <th>important_ownoffice</th>\n",
       "      <th>developer_challenges</th>\n",
       "      <th>why_stack_overflow</th>\n",
       "    </tr>\n",
       "  </thead>\n",
       "  <tbody>\n",
       "    <tr>\n",
       "      <th>0</th>\n",
       "      <td>1888</td>\n",
       "      <td>Facebook</td>\n",
       "      <td>Afghanistan</td>\n",
       "      <td>Southern Asia</td>\n",
       "      <td>Central Asia</td>\n",
       "      <td>20-24</td>\n",
       "      <td>22.0</td>\n",
       "      <td>Male</td>\n",
       "      <td>Programmer</td>\n",
       "      <td>NaN</td>\n",
       "      <td>...</td>\n",
       "      <td>NaN</td>\n",
       "      <td>NaN</td>\n",
       "      <td>NaN</td>\n",
       "      <td>NaN</td>\n",
       "      <td>NaN</td>\n",
       "      <td>NaN</td>\n",
       "      <td>NaN</td>\n",
       "      <td>NaN</td>\n",
       "      <td>NaN</td>\n",
       "      <td>NaN</td>\n",
       "    </tr>\n",
       "    <tr>\n",
       "      <th>1</th>\n",
       "      <td>4637</td>\n",
       "      <td>Facebook</td>\n",
       "      <td>Afghanistan</td>\n",
       "      <td>Southern Asia</td>\n",
       "      <td>Central Asia</td>\n",
       "      <td>30-34</td>\n",
       "      <td>32.0</td>\n",
       "      <td>Male</td>\n",
       "      <td>Developer; Engineer; Programmer</td>\n",
       "      <td>Mobile developer - iOS</td>\n",
       "      <td>...</td>\n",
       "      <td>This is somewhat important</td>\n",
       "      <td>This is very important</td>\n",
       "      <td>This is very important</td>\n",
       "      <td>I don't care about this</td>\n",
       "      <td>This is somewhat important</td>\n",
       "      <td>This is somewhat important</td>\n",
       "      <td>I don't care about this</td>\n",
       "      <td>I don't care about this</td>\n",
       "      <td>Unrealistic expectations; Interacting with non...</td>\n",
       "      <td>To get help for my job; Because I can't do my ...</td>\n",
       "    </tr>\n",
       "    <tr>\n",
       "      <th>2</th>\n",
       "      <td>11164</td>\n",
       "      <td>Facebook</td>\n",
       "      <td>Afghanistan</td>\n",
       "      <td>Southern Asia</td>\n",
       "      <td>Central Asia</td>\n",
       "      <td>NaN</td>\n",
       "      <td>NaN</td>\n",
       "      <td>NaN</td>\n",
       "      <td>NaN</td>\n",
       "      <td>NaN</td>\n",
       "      <td>...</td>\n",
       "      <td>NaN</td>\n",
       "      <td>NaN</td>\n",
       "      <td>NaN</td>\n",
       "      <td>NaN</td>\n",
       "      <td>NaN</td>\n",
       "      <td>NaN</td>\n",
       "      <td>NaN</td>\n",
       "      <td>NaN</td>\n",
       "      <td>NaN</td>\n",
       "      <td>NaN</td>\n",
       "    </tr>\n",
       "  </tbody>\n",
       "</table>\n",
       "<p>3 rows × 66 columns</p>\n",
       "</div>"
      ],
      "text/plain": [
       "   Unnamed: 0 collector      country   un_subregion     so_region age_range  \\\n",
       "0        1888  Facebook  Afghanistan  Southern Asia  Central Asia     20-24   \n",
       "1        4637  Facebook  Afghanistan  Southern Asia  Central Asia     30-34   \n",
       "2       11164  Facebook  Afghanistan  Southern Asia  Central Asia       NaN   \n",
       "\n",
       "   age_midpoint gender              self_identification  \\\n",
       "0          22.0   Male                       Programmer   \n",
       "1          32.0   Male  Developer; Engineer; Programmer   \n",
       "2           NaN    NaN                              NaN   \n",
       "\n",
       "               occupation  ...           important_sameend  \\\n",
       "0                     NaN  ...                         NaN   \n",
       "1  Mobile developer - iOS  ...  This is somewhat important   \n",
       "2                     NaN  ...                         NaN   \n",
       "\n",
       "        important_newtech      important_buildnew  important_buildexisting  \\\n",
       "0                     NaN                     NaN                      NaN   \n",
       "1  This is very important  This is very important  I don't care about this   \n",
       "2                     NaN                     NaN                      NaN   \n",
       "\n",
       "          important_promotion    important_companymission  \\\n",
       "0                         NaN                         NaN   \n",
       "1  This is somewhat important  This is somewhat important   \n",
       "2                         NaN                         NaN   \n",
       "\n",
       "             important_wfh      important_ownoffice  \\\n",
       "0                      NaN                      NaN   \n",
       "1  I don't care about this  I don't care about this   \n",
       "2                      NaN                      NaN   \n",
       "\n",
       "                                developer_challenges  \\\n",
       "0                                                NaN   \n",
       "1  Unrealistic expectations; Interacting with non...   \n",
       "2                                                NaN   \n",
       "\n",
       "                                  why_stack_overflow  \n",
       "0                                                NaN  \n",
       "1  To get help for my job; Because I can't do my ...  \n",
       "2                                                NaN  \n",
       "\n",
       "[3 rows x 66 columns]"
      ]
     },
     "execution_count": 102,
     "metadata": {},
     "output_type": "execute_result"
    }
   ],
   "source": [
    "dfs[2016].head(3)"
   ]
  },
  {
   "cell_type": "code",
   "execution_count": 103,
   "id": "438e8710",
   "metadata": {},
   "outputs": [
    {
     "data": {
      "text/html": [
       "<div>\n",
       "<style scoped>\n",
       "    .dataframe tbody tr th:only-of-type {\n",
       "        vertical-align: middle;\n",
       "    }\n",
       "\n",
       "    .dataframe tbody tr th {\n",
       "        vertical-align: top;\n",
       "    }\n",
       "\n",
       "    .dataframe thead th {\n",
       "        text-align: right;\n",
       "    }\n",
       "</style>\n",
       "<table border=\"1\" class=\"dataframe\">\n",
       "  <thead>\n",
       "    <tr style=\"text-align: right;\">\n",
       "      <th></th>\n",
       "      <th>Respondent</th>\n",
       "      <th>MainBranch</th>\n",
       "      <th>Hobbyist</th>\n",
       "      <th>Age</th>\n",
       "      <th>Age1stCode</th>\n",
       "      <th>CompFreq</th>\n",
       "      <th>CompTotal</th>\n",
       "      <th>ConvertedComp</th>\n",
       "      <th>Country</th>\n",
       "      <th>CurrencyDesc</th>\n",
       "      <th>...</th>\n",
       "      <th>SurveyEase</th>\n",
       "      <th>SurveyLength</th>\n",
       "      <th>Trans</th>\n",
       "      <th>UndergradMajor</th>\n",
       "      <th>WebframeDesireNextYear</th>\n",
       "      <th>WebframeWorkedWith</th>\n",
       "      <th>WelcomeChange</th>\n",
       "      <th>WorkWeekHrs</th>\n",
       "      <th>YearsCode</th>\n",
       "      <th>YearsCodePro</th>\n",
       "    </tr>\n",
       "  </thead>\n",
       "  <tbody>\n",
       "    <tr>\n",
       "      <th>0</th>\n",
       "      <td>1</td>\n",
       "      <td>I am a developer by profession</td>\n",
       "      <td>Yes</td>\n",
       "      <td>NaN</td>\n",
       "      <td>13</td>\n",
       "      <td>Monthly</td>\n",
       "      <td>NaN</td>\n",
       "      <td>NaN</td>\n",
       "      <td>Germany</td>\n",
       "      <td>European Euro</td>\n",
       "      <td>...</td>\n",
       "      <td>Neither easy nor difficult</td>\n",
       "      <td>Appropriate in length</td>\n",
       "      <td>No</td>\n",
       "      <td>Computer science, computer engineering, or sof...</td>\n",
       "      <td>ASP.NET Core</td>\n",
       "      <td>ASP.NET;ASP.NET Core</td>\n",
       "      <td>Just as welcome now as I felt last year</td>\n",
       "      <td>50.0</td>\n",
       "      <td>36</td>\n",
       "      <td>27</td>\n",
       "    </tr>\n",
       "    <tr>\n",
       "      <th>1</th>\n",
       "      <td>2</td>\n",
       "      <td>I am a developer by profession</td>\n",
       "      <td>No</td>\n",
       "      <td>NaN</td>\n",
       "      <td>19</td>\n",
       "      <td>NaN</td>\n",
       "      <td>NaN</td>\n",
       "      <td>NaN</td>\n",
       "      <td>United Kingdom</td>\n",
       "      <td>Pound sterling</td>\n",
       "      <td>...</td>\n",
       "      <td>NaN</td>\n",
       "      <td>NaN</td>\n",
       "      <td>NaN</td>\n",
       "      <td>Computer science, computer engineering, or sof...</td>\n",
       "      <td>NaN</td>\n",
       "      <td>NaN</td>\n",
       "      <td>Somewhat more welcome now than last year</td>\n",
       "      <td>NaN</td>\n",
       "      <td>7</td>\n",
       "      <td>4</td>\n",
       "    </tr>\n",
       "    <tr>\n",
       "      <th>2</th>\n",
       "      <td>3</td>\n",
       "      <td>I code primarily as a hobby</td>\n",
       "      <td>Yes</td>\n",
       "      <td>NaN</td>\n",
       "      <td>15</td>\n",
       "      <td>NaN</td>\n",
       "      <td>NaN</td>\n",
       "      <td>NaN</td>\n",
       "      <td>Russian Federation</td>\n",
       "      <td>NaN</td>\n",
       "      <td>...</td>\n",
       "      <td>Neither easy nor difficult</td>\n",
       "      <td>Appropriate in length</td>\n",
       "      <td>NaN</td>\n",
       "      <td>NaN</td>\n",
       "      <td>NaN</td>\n",
       "      <td>NaN</td>\n",
       "      <td>Somewhat more welcome now than last year</td>\n",
       "      <td>NaN</td>\n",
       "      <td>4</td>\n",
       "      <td>NaN</td>\n",
       "    </tr>\n",
       "  </tbody>\n",
       "</table>\n",
       "<p>3 rows × 61 columns</p>\n",
       "</div>"
      ],
      "text/plain": [
       "   Respondent                      MainBranch Hobbyist  Age Age1stCode  \\\n",
       "0           1  I am a developer by profession      Yes  NaN         13   \n",
       "1           2  I am a developer by profession       No  NaN         19   \n",
       "2           3     I code primarily as a hobby      Yes  NaN         15   \n",
       "\n",
       "  CompFreq  CompTotal  ConvertedComp             Country    CurrencyDesc  ...  \\\n",
       "0  Monthly        NaN            NaN             Germany   European Euro  ...   \n",
       "1      NaN        NaN            NaN      United Kingdom  Pound sterling  ...   \n",
       "2      NaN        NaN            NaN  Russian Federation             NaN  ...   \n",
       "\n",
       "                   SurveyEase           SurveyLength Trans  \\\n",
       "0  Neither easy nor difficult  Appropriate in length    No   \n",
       "1                         NaN                    NaN   NaN   \n",
       "2  Neither easy nor difficult  Appropriate in length   NaN   \n",
       "\n",
       "                                      UndergradMajor WebframeDesireNextYear  \\\n",
       "0  Computer science, computer engineering, or sof...           ASP.NET Core   \n",
       "1  Computer science, computer engineering, or sof...                    NaN   \n",
       "2                                                NaN                    NaN   \n",
       "\n",
       "     WebframeWorkedWith                             WelcomeChange WorkWeekHrs  \\\n",
       "0  ASP.NET;ASP.NET Core   Just as welcome now as I felt last year        50.0   \n",
       "1                   NaN  Somewhat more welcome now than last year         NaN   \n",
       "2                   NaN  Somewhat more welcome now than last year         NaN   \n",
       "\n",
       "  YearsCode YearsCodePro  \n",
       "0        36           27  \n",
       "1         7            4  \n",
       "2         4          NaN  \n",
       "\n",
       "[3 rows x 61 columns]"
      ]
     },
     "execution_count": 103,
     "metadata": {},
     "output_type": "execute_result"
    }
   ],
   "source": [
    "dfs[2020].head(3)"
   ]
  },
  {
   "cell_type": "markdown",
   "id": "e96afc4a",
   "metadata": {},
   "source": [
    "The country column is a categorical variable. To answer this question, we will only be looking at the counts of each of the options (countries), and so we don't need to perform any encoding on the column. This might be needed if the column were to be used as part of an ML model.\n",
    "\n",
    "We can see that the naming of the column containing the country data isn't consistent: 'Country' vs 'country'. To make it simpler to refer to the column in every dataset, we can convert all the column names to lower case."
   ]
  },
  {
   "cell_type": "code",
   "execution_count": 104,
   "id": "e0a3df09",
   "metadata": {},
   "outputs": [],
   "source": [
    "# Change all the column titles to lower case to make it easy to refer to them consistently\n",
    "for year in dfs.keys():\n",
    "    dfs[year].columns = dfs[year].columns.str.lower()"
   ]
  },
  {
   "cell_type": "markdown",
   "id": "92275d78",
   "metadata": {},
   "source": [
    "Now let's check for missing values in the country columns of our datasets."
   ]
  },
  {
   "cell_type": "code",
   "execution_count": 105,
   "id": "082adaab",
   "metadata": {},
   "outputs": [
    {
     "name": "stdout",
     "output_type": "stream",
     "text": [
      "2016: Column 'country' has 56030 rows and 502 missing values (0.9%).\n",
      "2017: Column 'country' has 51392 rows and 0 missing values (0.0%).\n",
      "2018: Column 'country' has 98855 rows and 412 missing values (0.42%).\n",
      "2019: Column 'country' has 88883 rows and 132 missing values (0.15%).\n",
      "2020: Column 'country' has 64461 rows and 389 missing values (0.6%).\n"
     ]
    }
   ],
   "source": [
    "# Define function to return the number of rows and missing values in a column. Will also be used later in the analysis.\n",
    "def column_summary(df, column_name, print_summary=False):\n",
    "    \"\"\" Function to return the number of rows and missing values in a column, and optionally print these values.\n",
    "    \n",
    "    Args:\n",
    "        df (pandas DataFrame): DataFrame containing the column of interest\n",
    "        column_name (str): name of the column of interest\n",
    "        print_summary (bool): print a sumamry of the column, default False\n",
    "        \n",
    "    Returns:\n",
    "        count_rows (int): number of rows in the column\n",
    "        count_missing (int): number of missing values in the column\n",
    "        fraction_missing (float): fraction of rows that are missing values\n",
    "        Returned as a tuple\n",
    "    \"\"\"\n",
    "    count_rows = df[column_name].shape[0]\n",
    "    count_missing = df[column_name].isna().sum()\n",
    "    fraction_missing = count_missing/count_rows\n",
    "    \n",
    "    if print_summary==True:\n",
    "        print(\"Column '{}' has {} rows and {} missing values ({}%).\".format(column_name, count_rows, count_missing, round(100*fraction_missing, 2)))\n",
    "    \n",
    "    return (count_rows, count_missing, fraction_missing)\n",
    "\n",
    "for year, results in dfs.items():\n",
    "    print(year, end=': ')\n",
    "    column_summary(results, 'country', print_summary=True)"
   ]
  },
  {
   "cell_type": "markdown",
   "id": "35442a3d",
   "metadata": {},
   "source": [
    "We can see that there is a very small amount of missing values (<1%), so we should be comfortable using the data in this column. We do not need to explicitly drop these rows, as we will be using `value_counts()` which by default excludes missing data from its counts.\n",
    "\n",
    "Let's look at some of the country data from one of the years."
   ]
  },
  {
   "cell_type": "code",
   "execution_count": 106,
   "id": "4cb260ef",
   "metadata": {},
   "outputs": [
    {
     "name": "stdout",
     "output_type": "stream",
     "text": [
      "There are 183 unique countries in the 2020 dataset.\n",
      "The top 6 countries make up 0.5110968909976277 of the respondents.\n"
     ]
    }
   ],
   "source": [
    "# Count the number of unique values in the country column\n",
    "print(\"There are {} unique countries in the 2020 dataset.\".format(dfs[2020]['country'].value_counts().shape[0]))\n",
    "\n",
    "# Limit the number of countries to look at\n",
    "num_countries_to_track = 6\n",
    "\n",
    "# How much of the data is accounted for by the top countries?\n",
    "print(\"The top {} countries make up {} of the respondents.\".format(\n",
    "    num_countries_to_track,\n",
    "    sum(dfs[2020]['country'].value_counts(normalize=True)[:num_countries_to_track])\n",
    "    ))"
   ]
  },
  {
   "cell_type": "markdown",
   "id": "bcd8d5d4",
   "metadata": {},
   "source": [
    "There are 183 unique countries in the column! But by looking at the normalised value counts we can see that if we just look at the top 6 countries, that covers over half of the respondents.\n",
    "#### Prepare data\n",
    "We'll use the top six countries from the most recent survey and see how they've changed since 2016."
   ]
  },
  {
   "cell_type": "code",
   "execution_count": 107,
   "id": "a24fb2fd",
   "metadata": {},
   "outputs": [],
   "source": [
    "# Take the top six countries from the most recent survey, and use them as our countries to track.\n",
    "countries_of_interest = list(dfs[2020]['country'].value_counts(dropna=True).keys())[:num_countries_to_track]"
   ]
  },
  {
   "cell_type": "code",
   "execution_count": 108,
   "id": "81d7ddd1",
   "metadata": {},
   "outputs": [
    {
     "data": {
      "image/png": "[encoded data removed]",
      "text/plain": [
       "<Figure size 432x288 with 1 Axes>"
      ]
     },
     "metadata": {
      "needs_background": "light"
     },
     "output_type": "display_data"
    }
   ],
   "source": [
    "country_data_over_time = {}  # Empty dict to store the country data over time\n",
    "\n",
    "# Iterate through our results sets\n",
    "for year, results in dfs.items():\n",
    "    # Calculate normalised counts, discounting na values\n",
    "    country_counts = 100*results['country'].value_counts(dropna=True, normalize=True)\n",
    "\n",
    "    # Iterate through our countries of interest to pull out their data\n",
    "    country_data_over_time[year] = []\n",
    "    for country in countries_of_interest:\n",
    "        country_data_over_time[year].append(country_counts[country])  \n",
    "\n",
    "# Seperate out the dict into x and y axes\n",
    "year_values = list(country_data_over_time.keys())\n",
    "country_values = list(country_data_over_time.values())\n",
    "\n",
    "# Plot a line chart of the results\n",
    "plt.xticks(year_values)\n",
    "plt.xlabel('Year')\n",
    "plt.ylabel('% of respondants')\n",
    "plt.plot(year_values, country_values, label=countries_of_interest);\n",
    "plt.legend(bbox_to_anchor=(1.05, 1), loc='upper left');\n",
    "plt.title('Top 6 countries on Stack Overview');"
   ]
  },
  {
   "cell_type": "markdown",
   "id": "2cecb116",
   "metadata": {},
   "source": [
    "**We can see that in the period 2016-2020:**\n",
    "- **The USA is the country with the most respondents, by far.**\n",
    "- **The USA has decreased from approx. 24% of users to approx. 19% of respondents.**\n",
    "- **In the same time, India has increased from approx. 8% to 13% of respondents.**\n",
    "\n",
    "There's an interesting fluctuation in the data in 2018/2019; it would be interesting to find out the cause of this!\n",
    "\n",
    "---"
   ]
  },
  {
   "cell_type": "markdown",
   "id": "307164f6",
   "metadata": {},
   "source": [
    "### Question 2: What is the gender split on Stack Overflow, and have there been any major changes between 2016-2020?\n",
    "#### Data understanding\n",
    "To answer this question, we'll start by taking a quick look at the data from a couple of different years."
   ]
  },
  {
   "cell_type": "code",
   "execution_count": 109,
   "id": "c58c5fcd",
   "metadata": {},
   "outputs": [
    {
     "data": {
      "text/plain": [
       "Male                      51388\n",
       "Female                     3202\n",
       "Prefer not to disclose      722\n",
       "Other                       274\n",
       "Name: gender, dtype: int64"
      ]
     },
     "execution_count": 109,
     "metadata": {},
     "output_type": "execute_result"
    }
   ],
   "source": [
    "dfs[2016]['gender'].value_counts()"
   ]
  },
  {
   "cell_type": "code",
   "execution_count": 110,
   "id": "ace479ea",
   "metadata": {},
   "outputs": [
    {
     "data": {
      "text/plain": [
       "Man                                                            46013\n",
       "Woman                                                           3844\n",
       "Non-binary, genderqueer, or gender non-conforming                385\n",
       "Man;Non-binary, genderqueer, or gender non-conforming            121\n",
       "Woman;Non-binary, genderqueer, or gender non-conforming           92\n",
       "Woman;Man                                                         76\n",
       "Woman;Man;Non-binary, genderqueer, or gender non-conforming       26\n",
       "Name: gender, dtype: int64"
      ]
     },
     "execution_count": 110,
     "metadata": {},
     "output_type": "execute_result"
    }
   ],
   "source": [
    "dfs[2020]['gender'].value_counts()"
   ]
  },
  {
   "cell_type": "markdown",
   "id": "b676e511",
   "metadata": {},
   "source": [
    "The way gender has been recorded has changed multiple times in the period 2016-2020, which poses challenges when comparing the data. For the sake of this analysis, we will be categorising the data into three buckets: Male/Man, Female/Woman, and Non-Binary (acknowledging that this is an umbrella term for many distinct gender identities).\n",
    "\n",
    "Gender is a categorical variable. No encoding is required in this case, as we're simply counting the instances of each response.\n",
    "\n",
    "Let's also check for missing values."
   ]
  },
  {
   "cell_type": "code",
   "execution_count": 111,
   "id": "f6cc746d",
   "metadata": {},
   "outputs": [
    {
     "name": "stdout",
     "output_type": "stream",
     "text": [
      "2016: Column 'gender' has 56030 rows and 444 missing values (0.79%).\n",
      "2017: Column 'gender' has 51392 rows and 16345 missing values (31.8%).\n",
      "2018: Column 'gender' has 98855 rows and 34386 missing values (34.78%).\n",
      "2019: Column 'gender' has 88883 rows and 3477 missing values (3.91%).\n",
      "2020: Column 'gender' has 64461 rows and 13904 missing values (21.57%).\n"
     ]
    }
   ],
   "source": [
    "for year, results in dfs.items():\n",
    "    print(year, end=': ')\n",
    "    column_summary(results, 'gender', print_summary=True)"
   ]
  },
  {
   "cell_type": "markdown",
   "id": "ae3a1cea",
   "metadata": {},
   "source": [
    "We can see that in some years (2016, 2019), there are very few missing values. In others (2017, 2018, 2020), there is a large fraction missing. To ensure we get meaningful results we will have to drop the rows with missing values.\n",
    "#### Prepare data\n",
    "We will start by cleaning the data by dropping missing values, and then calculate the fraction of respondents that fall into each category."
   ]
  },
  {
   "cell_type": "code",
   "execution_count": 112,
   "id": "c9a1ec10",
   "metadata": {},
   "outputs": [
    {
     "data": {
      "image/png": "[encoded data removed]",
      "text/plain": [
       "<Figure size 432x288 with 1 Axes>"
      ]
     },
     "metadata": {
      "needs_background": "light"
     },
     "output_type": "display_data"
    }
   ],
   "source": [
    "gender_data_over_time = {}  # Empty dict to store the gender data over time\n",
    "\n",
    "# Iterate through our results sets\n",
    "for year, results in dfs.items():\n",
    "    gender_data_clean = results['gender'].dropna() # Drop missing values\n",
    "    num_respondants = gender_data_clean.shape[0] # Number of respondents\n",
    "    \n",
    "    # Get the fraction of respondants that selected only 'Male'/'Man' or 'Female'/'Woman'\n",
    "    male_fraction = gender_data_clean[(gender_data_clean == 'Male') | (gender_data_clean == 'Man')].shape[0]/num_respondants\n",
    "    female_fraction = gender_data_clean[(gender_data_clean == 'Female') | (gender_data_clean == 'Woman')].shape[0]/num_respondants\n",
    "    \n",
    "    # Remaining fraction is respondants who selected other or multiple options\n",
    "    nb_fraction = 1 - (male_fraction + female_fraction)\n",
    "    \n",
    "    gender_data_over_time[year] = [male_fraction, female_fraction, nb_fraction]\n",
    "    \n",
    "# Seperate out the dict into x and y axes\n",
    "year_values = list(gender_data_over_time.keys())\n",
    "gender_values = list(gender_data_over_time.values())\n",
    "\n",
    "# Transpose the data to get in the correct format for plotting with stackplot\n",
    "gender_values = np.array(gender_values).T.tolist()\n",
    "\n",
    "# Plot a stacked area chart of the results\n",
    "plt.xticks(year_values)\n",
    "plt.xlabel('Year')\n",
    "plt.ylabel('Fraction of respondants')\n",
    "plt.stackplot(year_values, gender_values, labels=['Male', 'Female', 'Non-binary']);\n",
    "plt.legend(bbox_to_anchor=(1.05, 1), loc='upper left');\n",
    "plt.title('Gender split on Stack Overflow');"
   ]
  },
  {
   "cell_type": "markdown",
   "id": "ebb4e68c",
   "metadata": {},
   "source": [
    "We can see that the Stack Overflow surverys are predominantly answered by respondents who identify as male (90%+).\n",
    "\n",
    "In the chart above it is difficult to determine if there are any trends. Let's replot it with the y-axis scaled to show more detail."
   ]
  },
  {
   "cell_type": "code",
   "execution_count": 113,
   "id": "8ca78eac",
   "metadata": {},
   "outputs": [
    {
     "data": {
      "image/png": "[encoded data removed]",
      "text/plain": [
       "<Figure size 432x288 with 1 Axes>"
      ]
     },
     "metadata": {
      "needs_background": "light"
     },
     "output_type": "display_data"
    }
   ],
   "source": [
    "# Plot a stacked area chart of the results, with the y-axis scaled to help show any trends\n",
    "plt.xticks(year_values)\n",
    "plt.xlabel('Year')\n",
    "plt.ylabel('Fraction of respondants')\n",
    "plt.ylim([0.85, 1.0]) # Scale the y-axis to zoom in\n",
    "plt.stackplot(year_values, gender_values, labels=['Male', 'Female', 'Non-binary']);\n",
    "plt.legend(bbox_to_anchor=(1.05, 1), loc='upper left');\n",
    "plt.title('Gender split on Stack Overflow (scaled)');"
   ]
  },
  {
   "cell_type": "markdown",
   "id": "59f9e137",
   "metadata": {},
   "source": [
    "**We can see that in the period 2016-2020:**\n",
    "- **The way in which the survery asked users about their gender changed significantly.**\n",
    "- **Survey respondents predominantly identify as male.**\n",
    "- **There are no clear trends showing changes in the gender split on Stack Overflow.**\n",
    "\n",
    "---"
   ]
  },
  {
   "cell_type": "markdown",
   "id": "74fe65f0",
   "metadata": {},
   "source": [
    "### Question 3: Looking at the 2020 data, what are the age distributions of male and female users?\n",
    "We have seen that the majority of respondents are male, but how does this correlate with age?\n",
    "#### Data understanding\n",
    "For this question we will be looking at the relationship between two columns, so we need to remove any rows in which either the gender or the age are missing. Let's check how much of the data that is."
   ]
  },
  {
   "cell_type": "code",
   "execution_count": 114,
   "id": "4cc676d0",
   "metadata": {},
   "outputs": [
    {
     "name": "stdout",
     "output_type": "stream",
     "text": [
      "Column 'gender' has 64461 rows and 13904 missing values (21.57%).\n",
      "Column 'age' has 64461 rows and 19015 missing values (29.5%).\n",
      "Of 64461 rows, there are 19625 is which either age or gender data is missing (30.44%)\n"
     ]
    }
   ],
   "source": [
    "df_age_gender = dfs[2020][['age', 'gender']]  # Extract DataFrame with the year and columns we're interested in\n",
    "\n",
    "# Print summaries of the missing data in the age and gender columns individually\n",
    "num_rows, _, _ = column_summary(df_age_gender, 'gender', print_summary=True)\n",
    "column_summary(df_age_gender, 'age', print_summary=True)\n",
    "\n",
    "# Calculate and print the number of rows in which either the age or gender is missing\n",
    "num_missing = df_age_gender[df_age_gender['age'].isna() | df_age_gender['gender'].isna()].shape[0]\n",
    "print(\"Of {} rows, there are {} is which either age or gender data is missing ({}%)\".format(num_rows, num_missing, round(100*num_missing/num_rows, 2)))"
   ]
  },
  {
   "cell_type": "markdown",
   "id": "5576476e",
   "metadata": {},
   "source": [
    "We can see that just over 30% of the rows have either age or gender data missing.\n",
    "#### Prepare data\n",
    "Let's drop these rows, and then take a look at a summary of the age column."
   ]
  },
  {
   "cell_type": "code",
   "execution_count": 115,
   "id": "6a9a9582",
   "metadata": {},
   "outputs": [
    {
     "data": {
      "text/plain": [
       "count    44836.000000\n",
       "mean        30.821382\n",
       "std          9.534412\n",
       "min          1.000000\n",
       "25%         24.000000\n",
       "50%         29.000000\n",
       "75%         35.000000\n",
       "max        279.000000\n",
       "Name: age, dtype: float64"
      ]
     },
     "execution_count": 115,
     "metadata": {},
     "output_type": "execute_result"
    }
   ],
   "source": [
    "# Remove rows where either gender or age are null\n",
    "df_age_gender = df_age_gender.dropna(how='any')\n",
    "\n",
    "# Let's have a quick look at the age data\n",
    "df_age_gender['age'].describe()"
   ]
  },
  {
   "cell_type": "markdown",
   "id": "88117606",
   "metadata": {},
   "source": [
    "Wow, a there's 279 year-old Stack Overflow user! But it's more likely that they've made a mistake (or lied). The oldest living person in the world (at the time of writing) is [118 years-old](https://en.wikipedia.org/wiki/List_of_the_verified_oldest_people), so let's remove any rows claiming to be older than that."
   ]
  },
  {
   "cell_type": "code",
   "execution_count": 116,
   "id": "e6edb057",
   "metadata": {},
   "outputs": [
    {
     "data": {
      "text/plain": [
       "99.0"
      ]
     },
     "execution_count": 116,
     "metadata": {},
     "output_type": "execute_result"
    }
   ],
   "source": [
    "# Drop rows where the age is greater than the oldest living person\n",
    "df_age_gender.drop(df_age_gender[df_age_gender['age'] > 118].index, inplace=True)\n",
    "# Check the new maximum age in the dataset\n",
    "df_age_gender['age'].max()"
   ]
  },
  {
   "cell_type": "markdown",
   "id": "91fefcac",
   "metadata": {},
   "source": [
    "We've still got some pretty old Stack Overflowers, but let's give them the benefit of the doubt. Let's have a look at the median age of male and female respondents."
   ]
  },
  {
   "cell_type": "code",
   "execution_count": 117,
   "id": "3d737954",
   "metadata": {},
   "outputs": [
    {
     "name": "stdout",
     "output_type": "stream",
     "text": [
      "Median male age is 29.0.\n",
      "Median female age is 28.0.\n"
     ]
    }
   ],
   "source": [
    "print(\"Median male age is {}.\".format(df_age_gender[df_age_gender['gender'] == 'Man']['age'].median()))\n",
    "print(\"Median female age is {}.\".format(df_age_gender[df_age_gender['gender'] == 'Woman']['age'].median()))"
   ]
  },
  {
   "cell_type": "markdown",
   "id": "7af40a98",
   "metadata": {},
   "source": [
    "It looks like there's a slight skew for women to be younger. Let's explore this further by making a population pyramid. To do this we need to bin the data into age brackets."
   ]
  },
  {
   "cell_type": "code",
   "execution_count": 118,
   "id": "0e72dded",
   "metadata": {},
   "outputs": [],
   "source": [
    "# Define our bins and some human-readable labels for them\n",
    "age_bins = range(10, 81, 5)\n",
    "age_labels = [\n",
    "    '11-15',\n",
    "    '16-20',\n",
    "    '21-25',\n",
    "    '26-30',\n",
    "    '31-35',\n",
    "    '36-40',\n",
    "    '41-45',\n",
    "    '46-50',\n",
    "    '51-55',\n",
    "    '56-60',\n",
    "    '61-65',\n",
    "    '66-70',\n",
    "    '71-75',\n",
    "    '76-80'\n",
    "]\n",
    "\n",
    "# Add a new column containing the age bin the respondent falls in\n",
    "df_age_gender['age bin'] = pd.cut(df_age_gender['age'], bins=age_bins, labels=age_labels)\n",
    "\n",
    "# Count how many falls into each bin, splitting by men and women\n",
    "binned_data_man = df_age_gender[df_age_gender['gender'] == 'Man'].groupby('age bin').count()['gender']\n",
    "binned_data_woman = df_age_gender[df_age_gender['gender'] == 'Woman'].groupby('age bin').count()['gender']"
   ]
  },
  {
   "cell_type": "markdown",
   "id": "8deec35b",
   "metadata": {},
   "source": [
    "We know from looking at the gender split over time that Stack Overflow is male-dominated, so we need to normalise our binned data so that we can compare them meaningfully."
   ]
  },
  {
   "cell_type": "code",
   "execution_count": 119,
   "id": "5d9b9c79",
   "metadata": {},
   "outputs": [
    {
     "data": {
      "image/png": "[encoded data removed]",
      "text/plain": [
       "<Figure size 432x288 with 1 Axes>"
      ]
     },
     "metadata": {
      "needs_background": "light"
     },
     "output_type": "display_data"
    }
   ],
   "source": [
    "# Normalise the binned data. We'll also make the male data negative for plotting\n",
    "binned_data_man_normalised = binned_data_man.div(-binned_data_man.sum())\n",
    "binned_data_woman_normalised = binned_data_woman.div(binned_data_woman.sum())\n",
    "\n",
    "# Plot the two data sets on a horizonal bar chart\n",
    "plt.barh(age_labels, binned_data_man_normalised, label='Male');\n",
    "plt.barh(age_labels, binned_data_woman_normalised, label='Female');\n",
    "plt.xlim([-0.35, 0.35]);\n",
    "plt.xlabel('Fraction of respondents');\n",
    "plt.ylabel('Age');\n",
    "plt.legend();\n",
    "plt.title('Population pyramid on Stack Overflow');"
   ]
  },
  {
   "cell_type": "markdown",
   "id": "7653894a",
   "metadata": {},
   "source": [
    "We can see that there appears to be a greater proportion of female respondents in the younger age brackets. To make this easier to see, let's subtract the male dataset from the female dataset and look at the differences."
   ]
  },
  {
   "cell_type": "code",
   "execution_count": 120,
   "id": "faa35b77",
   "metadata": {},
   "outputs": [
    {
     "data": {
      "image/png": "[encoded data removed]",
      "text/plain": [
       "<Figure size 432x288 with 1 Axes>"
      ]
     },
     "metadata": {
      "needs_background": "light"
     },
     "output_type": "display_data"
    }
   ],
   "source": [
    "# Adding, as we've made the male dataset negative for plotting\n",
    "binned_data_differences = binned_data_man_normalised.add(binned_data_woman_normalised)\n",
    "\n",
    "# For formatting purposes\n",
    "difference_is_positive = binned_data_differences > 0\n",
    "\n",
    "# Plot the data on a horizonal bar chart\n",
    "plt.barh(age_labels, binned_data_differences, color=difference_is_positive.map({True: 'g', False: 'r'}));\n",
    "plt.xlim([-0.05, 0.05]);\n",
    "plt.xlabel('Fraction of respondents');\n",
    "plt.ylabel('Age');\n",
    "plt.title('Difference in male/female age distribution');"
   ]
  },
  {
   "cell_type": "markdown",
   "id": "2b48e5f5",
   "metadata": {},
   "source": [
    "**There are some clear differences in the age distributions of men and women on Stack Overflow:**\n",
    "- **Compared to the male respondents, the age of female respondents has a narrower distribution, peaking in the 21-30 age bracket.**\n",
    "- **This peak falls off rapidly either side of this age bracket.**\n",
    "- **Combined with Question 2, this indicates that there are fewer female Stack Overflow users, and they are earlier in their careers.**\n",
    "\n",
    "---\n",
    "\n",
    "## Conclusion\n",
    "In this notebook we have looked at Stack Overflow user survey data from 2016-2020 and found the following:\n",
    "1. In the period 2016-2020, **there has been an increase in users from India, and a decrease in users from the USA.**\n",
    "2. **Survey respondents predominantly identify as male (over 90%)**, and there are **no clear trends over time.**\n",
    "3. In the 2020 data **the age distribution of female users has a narrower spread, and peaks in the 21-30 age bracket. This could indicate women earlier in their careers.**"
   ]
  }
 ],
 "metadata": {
  "kernelspec": {
   "display_name": "Python 3",
   "language": "python",
   "name": "python3"
  },
  "language_info": {
   "codemirror_mode": {
    "name": "ipython",
    "version": 3
   },
   "file_extension": ".py",
   "mimetype": "text/x-python",
   "name": "python",
   "nbconvert_exporter": "python",
   "pygments_lexer": "ipython3",
   "version": "3.9.5"
  }
 },
 "nbformat": 4,
 "nbformat_minor": 5
}
